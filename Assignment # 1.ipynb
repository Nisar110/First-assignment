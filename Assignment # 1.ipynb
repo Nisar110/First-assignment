{
 "cells": [
  {
   "cell_type": "code",
   "execution_count": 1,
   "metadata": {},
   "outputs": [
    {
     "name": "stdout",
     "output_type": "stream",
     "text": [
      "Twinkle, twinkle, little star,\n",
      "\t How I wonder whatyou are!\n",
      "\t\t Up above the world so high,\n",
      "\t\t Like a diamond in the sky.\n",
      " Twinkle, twinkle, little star,\n",
      "\t How I wonder whatyou are\n"
     ]
    }
   ],
   "source": [
    "x=\"Twinkle, twinkle, little star,\\n\\t How I wonder whatyou are!\\n\\t\\t Up above the world so high,\\n\\t\\t Like a diamond in the sky.\\n Twinkle, twinkle, little star,\\n\\t How I wonder whatyou are\"\n",
    "print(x)"
   ]
  },
  {
   "cell_type": "code",
   "execution_count": 2,
   "metadata": {},
   "outputs": [
    {
     "name": "stdout",
     "output_type": "stream",
     "text": [
      "3.7.4\n"
     ]
    }
   ],
   "source": [
    "from platform import python_version\n",
    "print (python_version())"
   ]
  },
  {
   "cell_type": "code",
   "execution_count": 3,
   "metadata": {},
   "outputs": [
    {
     "name": "stdout",
     "output_type": "stream",
     "text": [
      "now= 2019-11-10 10:54:36.975273\n"
     ]
    }
   ],
   "source": [
    "from datetime import datetime\n",
    "now=datetime.now()\n",
    "print(\"now=\",now)"
   ]
  },
  {
   "cell_type": "code",
   "execution_count": 4,
   "metadata": {},
   "outputs": [
    {
     "name": "stdout",
     "output_type": "stream",
     "text": [
      "enter the value of rafius of circle=8\n",
      "value of radius= 200.96\n"
     ]
    }
   ],
   "source": [
    "r=int(input(\"enter the value of rafius of circle=\"))\n",
    "ti=3.14\n",
    "area=ti*r**2\n",
    "print ('value of radius=',area)"
   ]
  },
  {
   "cell_type": "code",
   "execution_count": 5,
   "metadata": {},
   "outputs": [
    {
     "name": "stdout",
     "output_type": "stream",
     "text": [
      "enter your first name= Nisar\n",
      "enter your last name= Ahmed\n",
      "full name = Ahmed Nisar\n"
     ]
    }
   ],
   "source": [
    "x=input(\"enter your first name= \")\n",
    "y=input(\"enter your last name= \")\n",
    "print('full name =',y+\" \"+x)"
   ]
  },
  {
   "cell_type": "code",
   "execution_count": 6,
   "metadata": {},
   "outputs": [
    {
     "name": "stdout",
     "output_type": "stream",
     "text": [
      "enter first value= 22\n",
      "enter second value= 12\n",
      "addition = 34\n"
     ]
    }
   ],
   "source": [
    "a=int(input(\"enter first value= \"))\n",
    "b=int(input(\"enter second value= \"))\n",
    "addition= a+b\n",
    "print('addition =',addition)"
   ]
  }
 ],
 "metadata": {
  "kernelspec": {
   "display_name": "Python 3",
   "language": "python",
   "name": "python3"
  },
  "language_info": {
   "codemirror_mode": {
    "name": "ipython",
    "version": 3
   },
   "file_extension": ".py",
   "mimetype": "text/x-python",
   "name": "python",
   "nbconvert_exporter": "python",
   "pygments_lexer": "ipython3",
   "version": "3.7.4"
  }
 },
 "nbformat": 4,
 "nbformat_minor": 2
}
